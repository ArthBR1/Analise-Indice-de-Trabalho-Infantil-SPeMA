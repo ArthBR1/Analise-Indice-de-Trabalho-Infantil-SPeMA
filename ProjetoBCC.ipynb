{
  "nbformat": 4,
  "nbformat_minor": 0,
  "metadata": {
    "colab": {
      "provenance": [],
      "collapsed_sections": [
        "uoAvmyDop_1p"
      ],
      "include_colab_link": true
    },
    "kernelspec": {
      "display_name": "Python 3",
      "name": "python3"
    }
  },
  "cells": [
    {
      "cell_type": "markdown",
      "metadata": {
        "id": "view-in-github",
        "colab_type": "text"
      },
      "source": [
        "<a href=\"https://colab.research.google.com/github/ArthBR1/Analise-Indice-de-Trabalho-Infantil-SPeMA/blob/main/ProjetoBCC.ipynb\" target=\"_parent\"><img src=\"https://colab.research.google.com/assets/colab-badge.svg\" alt=\"Open In Colab\"/></a>"
      ]
    },
    {
      "cell_type": "markdown",
      "metadata": {
        "id": "-krQ2FyfIh19"
      },
      "source": [
        "## Título: Trabalho Infantil nos estados de São Paulo e Maranhão\n",
        "## Aluno(s):\n",
        "  - RA: 11202022220 - Arthur Alves Guilhen - arthur.guilhen@aluno.ufabc.edu.br\n",
        "  - RA: 11202021396 - Julia Shinohara - j.shinohara@aluno.ufabc.edu.br\n",
        "  - RA: 11202021056 - Victória França Nery - nery.victoria@aluno.ufabc.edu.br\n",
        "  \n",
        "## Bases de Dados:\n",
        "Faça uma lista dos arquivos (tabelas) que serão utilizados para responder suas perguntas e descreva os dados com trechos da base de dados."
      ]
    },
    {
      "cell_type": "markdown",
      "metadata": {
        "id": "0xCWTJrpXmdQ"
      },
      "source": [
        "****AVISO!!! Professor, devido a falhas do colab estamos tendo erros intermitentes e aleatórios. Ao testar os mesmos códigos em outro colab, os erros não ocorrem mais. Os erros desse colab acontecem eventualmente e aleatoriamente, mas já testamos todos os mesmos códigos por fora e eles funcionam.****"
      ]
    },
    {
      "cell_type": "markdown",
      "metadata": {
        "id": "cDGMcbJMuj11"
      },
      "source": [
        "****Trabalho Infantil nas Mesoregiões do Maranhão****"
      ]
    },
    {
      "cell_type": "code",
      "metadata": {
        "colab": {
          "base_uri": "https://localhost:8080/",
          "height": 235
        },
        "id": "HBBqp_YoNxHl",
        "outputId": "680795c0-ef5d-49ee-9e0f-12ec08dfab67"
      },
      "source": [
        "import pandas as pd\n",
        "\n",
        "#Tabela Geral MA\n",
        "#https://drive.google.com/file/d/1w533TGqFeyGboRSyjjeFEQ_Y4lyOZzoI/view?usp=sharing\n",
        "TabMA = pd.read_csv(\"https://drive.google.com/u/3/uc?id=1w533TGqFeyGboRSyjjeFEQ_Y4lyOZzoI&export=download\", sep=',')\n",
        "TabMA"
      ],
      "execution_count": null,
      "outputs": [
        {
          "output_type": "execute_result",
          "data": {
            "text/html": [
              "<div>\n",
              "<style scoped>\n",
              "    .dataframe tbody tr th:only-of-type {\n",
              "        vertical-align: middle;\n",
              "    }\n",
              "\n",
              "    .dataframe tbody tr th {\n",
              "        vertical-align: top;\n",
              "    }\n",
              "\n",
              "    .dataframe thead th {\n",
              "        text-align: right;\n",
              "    }\n",
              "</style>\n",
              "<table border=\"1\" class=\"dataframe\">\n",
              "  <thead>\n",
              "    <tr style=\"text-align: right;\">\n",
              "      <th></th>\n",
              "      <th>Mesoregioes</th>\n",
              "      <th>Total_entre_10_a_17</th>\n",
              "      <th>Criancas_10_a_13_anos</th>\n",
              "      <th>Criancas_14_a_15_anos</th>\n",
              "      <th>Criancas_16_a_17_anos</th>\n",
              "    </tr>\n",
              "  </thead>\n",
              "  <tbody>\n",
              "    <tr>\n",
              "      <th>0</th>\n",
              "      <td>Total</td>\n",
              "      <td>1140287</td>\n",
              "      <td>579582</td>\n",
              "      <td>287528</td>\n",
              "      <td>273176</td>\n",
              "    </tr>\n",
              "    <tr>\n",
              "      <th>1</th>\n",
              "      <td>Centro Maranhense</td>\n",
              "      <td>163486</td>\n",
              "      <td>82527</td>\n",
              "      <td>41559</td>\n",
              "      <td>39399</td>\n",
              "    </tr>\n",
              "    <tr>\n",
              "      <th>2</th>\n",
              "      <td>Leste Maranhense</td>\n",
              "      <td>237113</td>\n",
              "      <td>121990</td>\n",
              "      <td>59238</td>\n",
              "      <td>55885</td>\n",
              "    </tr>\n",
              "    <tr>\n",
              "      <th>3</th>\n",
              "      <td>Norte Maranhense</td>\n",
              "      <td>430659</td>\n",
              "      <td>215130</td>\n",
              "      <td>109808</td>\n",
              "      <td>105721</td>\n",
              "    </tr>\n",
              "    <tr>\n",
              "      <th>4</th>\n",
              "      <td>Oeste Maranhense</td>\n",
              "      <td>253237</td>\n",
              "      <td>131646</td>\n",
              "      <td>62704</td>\n",
              "      <td>58886</td>\n",
              "    </tr>\n",
              "    <tr>\n",
              "      <th>5</th>\n",
              "      <td>Sul Maranhense</td>\n",
              "      <td>55792</td>\n",
              "      <td>28289</td>\n",
              "      <td>14218</td>\n",
              "      <td>13285</td>\n",
              "    </tr>\n",
              "  </tbody>\n",
              "</table>\n",
              "</div>"
            ],
            "text/plain": [
              "         Mesoregioes  ...  Criancas_16_a_17_anos\n",
              "0              Total  ...                 273176\n",
              "1  Centro Maranhense  ...                  39399\n",
              "2   Leste Maranhense  ...                  55885\n",
              "3   Norte Maranhense  ...                 105721\n",
              "4   Oeste Maranhense  ...                  58886\n",
              "5     Sul Maranhense  ...                  13285\n",
              "\n",
              "[6 rows x 5 columns]"
            ]
          },
          "metadata": {
            "tags": []
          },
          "execution_count": 87
        }
      ]
    },
    {
      "cell_type": "markdown",
      "metadata": {
        "id": "89oz4iXbus4v"
      },
      "source": [
        "****Trabalho Infantil nas Mesoregiões de São Paulo****"
      ]
    },
    {
      "cell_type": "code",
      "metadata": {
        "colab": {
          "base_uri": "https://localhost:8080/",
          "height": 545
        },
        "id": "z4fqkx6rIsMD",
        "outputId": "6d7371cb-5b12-4d63-fba9-ff2d91655053"
      },
      "source": [
        "import pandas as pd\n",
        "#Tabela geral SP\n",
        "#https://drive.google.com/file/d/1_BOv61ZpS9SWWKtGqE6GGv1D01rgfOYz/view?usp=sharing\n",
        "TabSP = pd.read_csv(\"https://docs.google.com/u/3/uc?id=1_BOv61ZpS9SWWKtGqE6GGv1D01rgfOYz&export=download\", sep=',')\n",
        "TabSP"
      ],
      "execution_count": null,
      "outputs": [
        {
          "output_type": "execute_result",
          "data": {
            "text/html": [
              "<div>\n",
              "<style scoped>\n",
              "    .dataframe tbody tr th:only-of-type {\n",
              "        vertical-align: middle;\n",
              "    }\n",
              "\n",
              "    .dataframe tbody tr th {\n",
              "        vertical-align: top;\n",
              "    }\n",
              "\n",
              "    .dataframe thead th {\n",
              "        text-align: right;\n",
              "    }\n",
              "</style>\n",
              "<table border=\"1\" class=\"dataframe\">\n",
              "  <thead>\n",
              "    <tr style=\"text-align: right;\">\n",
              "      <th></th>\n",
              "      <th>Mesoregioes</th>\n",
              "      <th>Total_entre_10_a_17</th>\n",
              "      <th>Criancas_10_a_13_anos</th>\n",
              "      <th>Criancas_14_a_15_anos</th>\n",
              "      <th>Criancas_16_a_17_anos</th>\n",
              "    </tr>\n",
              "  </thead>\n",
              "  <tbody>\n",
              "    <tr>\n",
              "      <th>0</th>\n",
              "      <td>Total</td>\n",
              "      <td>5315082</td>\n",
              "      <td>2649355</td>\n",
              "      <td>1358473</td>\n",
              "      <td>1307254</td>\n",
              "    </tr>\n",
              "    <tr>\n",
              "      <th>1</th>\n",
              "      <td>Aracatuba</td>\n",
              "      <td>83976</td>\n",
              "      <td>40170</td>\n",
              "      <td>22078</td>\n",
              "      <td>21727</td>\n",
              "    </tr>\n",
              "    <tr>\n",
              "      <th>2</th>\n",
              "      <td>Araraquara</td>\n",
              "      <td>98672</td>\n",
              "      <td>48166</td>\n",
              "      <td>25742</td>\n",
              "      <td>24764</td>\n",
              "    </tr>\n",
              "    <tr>\n",
              "      <th>3</th>\n",
              "      <td>Assis</td>\n",
              "      <td>71964</td>\n",
              "      <td>35364</td>\n",
              "      <td>18526</td>\n",
              "      <td>18075</td>\n",
              "    </tr>\n",
              "    <tr>\n",
              "      <th>4</th>\n",
              "      <td>Bauru</td>\n",
              "      <td>186098</td>\n",
              "      <td>90872</td>\n",
              "      <td>48766</td>\n",
              "      <td>46460</td>\n",
              "    </tr>\n",
              "    <tr>\n",
              "      <th>5</th>\n",
              "      <td>Campinas</td>\n",
              "      <td>470902</td>\n",
              "      <td>230448</td>\n",
              "      <td>122033</td>\n",
              "      <td>118420</td>\n",
              "    </tr>\n",
              "    <tr>\n",
              "      <th>6</th>\n",
              "      <td>Itapetininga</td>\n",
              "      <td>121109</td>\n",
              "      <td>60403</td>\n",
              "      <td>31625</td>\n",
              "      <td>29081</td>\n",
              "    </tr>\n",
              "    <tr>\n",
              "      <th>7</th>\n",
              "      <td>Litoral Sul Paulista</td>\n",
              "      <td>70950</td>\n",
              "      <td>36058</td>\n",
              "      <td>18302</td>\n",
              "      <td>16591</td>\n",
              "    </tr>\n",
              "    <tr>\n",
              "      <th>8</th>\n",
              "      <td>Macro Metropolitana Paulista</td>\n",
              "      <td>350022</td>\n",
              "      <td>173571</td>\n",
              "      <td>89846</td>\n",
              "      <td>86605</td>\n",
              "    </tr>\n",
              "    <tr>\n",
              "      <th>9</th>\n",
              "      <td>Marilia</td>\n",
              "      <td>54528</td>\n",
              "      <td>27060</td>\n",
              "      <td>13907</td>\n",
              "      <td>13560</td>\n",
              "    </tr>\n",
              "    <tr>\n",
              "      <th>10</th>\n",
              "      <td>Metropolitana de Sao Paulo</td>\n",
              "      <td>2738291</td>\n",
              "      <td>1384901</td>\n",
              "      <td>689502</td>\n",
              "      <td>663888</td>\n",
              "    </tr>\n",
              "    <tr>\n",
              "      <th>11</th>\n",
              "      <td>Piracicaba</td>\n",
              "      <td>174068</td>\n",
              "      <td>85263</td>\n",
              "      <td>45922</td>\n",
              "      <td>42883</td>\n",
              "    </tr>\n",
              "    <tr>\n",
              "      <th>12</th>\n",
              "      <td>Presidente Prudente</td>\n",
              "      <td>106583</td>\n",
              "      <td>51249</td>\n",
              "      <td>27803</td>\n",
              "      <td>27531</td>\n",
              "    </tr>\n",
              "    <tr>\n",
              "      <th>13</th>\n",
              "      <td>Ribeirao Preto</td>\n",
              "      <td>303716</td>\n",
              "      <td>148326</td>\n",
              "      <td>78572</td>\n",
              "      <td>76817</td>\n",
              "    </tr>\n",
              "    <tr>\n",
              "      <th>14</th>\n",
              "      <td>Sao Jose do Rio Preto</td>\n",
              "      <td>180824</td>\n",
              "      <td>87170</td>\n",
              "      <td>47423</td>\n",
              "      <td>46230</td>\n",
              "    </tr>\n",
              "    <tr>\n",
              "      <th>15</th>\n",
              "      <td>Vale do Paraiba Paulista</td>\n",
              "      <td>303381</td>\n",
              "      <td>150333</td>\n",
              "      <td>78426</td>\n",
              "      <td>74622</td>\n",
              "    </tr>\n",
              "  </tbody>\n",
              "</table>\n",
              "</div>"
            ],
            "text/plain": [
              "                     Mesoregioes  ...  Criancas_16_a_17_anos\n",
              "0                          Total  ...                1307254\n",
              "1                      Aracatuba  ...                  21727\n",
              "2                     Araraquara  ...                  24764\n",
              "3                          Assis  ...                  18075\n",
              "4                          Bauru  ...                  46460\n",
              "5                       Campinas  ...                 118420\n",
              "6                   Itapetininga  ...                  29081\n",
              "7           Litoral Sul Paulista  ...                  16591\n",
              "8   Macro Metropolitana Paulista  ...                  86605\n",
              "9                        Marilia  ...                  13560\n",
              "10    Metropolitana de Sao Paulo  ...                 663888\n",
              "11                    Piracicaba  ...                  42883\n",
              "12           Presidente Prudente  ...                  27531\n",
              "13                Ribeirao Preto  ...                  76817\n",
              "14         Sao Jose do Rio Preto  ...                  46230\n",
              "15      Vale do Paraiba Paulista  ...                  74622\n",
              "\n",
              "[16 rows x 5 columns]"
            ]
          },
          "metadata": {
            "tags": []
          },
          "execution_count": 61
        }
      ]
    },
    {
      "cell_type": "markdown",
      "metadata": {
        "id": "SR3TFiE4u0ms"
      },
      "source": [
        "****Renda nas Mesoregiões de Maranhão****"
      ]
    },
    {
      "cell_type": "code",
      "metadata": {
        "colab": {
          "base_uri": "https://localhost:8080/",
          "height": 340
        },
        "id": "4Rbi_jg8JCyD",
        "outputId": "4d42cff5-ba97-4efa-d16a-dc4855f02546"
      },
      "source": [
        "#Renda em MA\n",
        "#https://drive.google.com/file/d/1c_M1lYp_0mWl2oenJ1GV7UrhruyBH6Mi/view?usp=sharing\n",
        "import pandas as pd\n",
        "df =  pd.read_csv(\"https://drive.google.com/u/3/uc?id=1c_M1lYp_0mWl2oenJ1GV7UrhruyBH6Mi&export=download\", sep=',')\n",
        "df"
      ],
      "execution_count": null,
      "outputs": [
        {
          "output_type": "execute_result",
          "data": {
            "text/html": [
              "<div>\n",
              "<style scoped>\n",
              "    .dataframe tbody tr th:only-of-type {\n",
              "        vertical-align: middle;\n",
              "    }\n",
              "\n",
              "    .dataframe tbody tr th {\n",
              "        vertical-align: top;\n",
              "    }\n",
              "\n",
              "    .dataframe thead th {\n",
              "        text-align: right;\n",
              "    }\n",
              "</style>\n",
              "<table border=\"1\" class=\"dataframe\">\n",
              "  <thead>\n",
              "    <tr style=\"text-align: right;\">\n",
              "      <th></th>\n",
              "      <th>Mesoregioes</th>\n",
              "      <th>Total</th>\n",
              "      <th>ate_meio_salario</th>\n",
              "      <th>meio_a_um_salario</th>\n",
              "      <th>um_a_dois_sal</th>\n",
              "      <th>dois_a_cinco_sal</th>\n",
              "      <th>cinco_a_dez_sal</th>\n",
              "      <th>dez_a_vinte_sal</th>\n",
              "      <th>mais_de_vinte_sal</th>\n",
              "      <th>sem_rendimento</th>\n",
              "    </tr>\n",
              "  </thead>\n",
              "  <tbody>\n",
              "    <tr>\n",
              "      <th>0</th>\n",
              "      <td>Total</td>\n",
              "      <td>5265740</td>\n",
              "      <td>783934</td>\n",
              "      <td>1257385</td>\n",
              "      <td>466365</td>\n",
              "      <td>210669</td>\n",
              "      <td>68184</td>\n",
              "      <td>19525</td>\n",
              "      <td>7074</td>\n",
              "      <td>2452447</td>\n",
              "    </tr>\n",
              "    <tr>\n",
              "      <th>1</th>\n",
              "      <td>Centro Maranhense</td>\n",
              "      <td>727522</td>\n",
              "      <td>132517</td>\n",
              "      <td>176648</td>\n",
              "      <td>49026</td>\n",
              "      <td>18159</td>\n",
              "      <td>4934</td>\n",
              "      <td>1075</td>\n",
              "      <td>406</td>\n",
              "      <td>344723</td>\n",
              "    </tr>\n",
              "    <tr>\n",
              "      <th>2</th>\n",
              "      <td>Leste Maranhense</td>\n",
              "      <td>1055758</td>\n",
              "      <td>186218</td>\n",
              "      <td>253288</td>\n",
              "      <td>69401</td>\n",
              "      <td>25563</td>\n",
              "      <td>6515</td>\n",
              "      <td>1300</td>\n",
              "      <td>435</td>\n",
              "      <td>513013</td>\n",
              "    </tr>\n",
              "    <tr>\n",
              "      <th>3</th>\n",
              "      <td>Norte Maranhense</td>\n",
              "      <td>2125145</td>\n",
              "      <td>264532</td>\n",
              "      <td>491110</td>\n",
              "      <td>223172</td>\n",
              "      <td>115085</td>\n",
              "      <td>41906</td>\n",
              "      <td>13550</td>\n",
              "      <td>4883</td>\n",
              "      <td>970844</td>\n",
              "    </tr>\n",
              "    <tr>\n",
              "      <th>4</th>\n",
              "      <td>Oeste Maranhense</td>\n",
              "      <td>1111041</td>\n",
              "      <td>170335</td>\n",
              "      <td>275071</td>\n",
              "      <td>99008</td>\n",
              "      <td>39475</td>\n",
              "      <td>11321</td>\n",
              "      <td>2727</td>\n",
              "      <td>1048</td>\n",
              "      <td>512037</td>\n",
              "    </tr>\n",
              "    <tr>\n",
              "      <th>5</th>\n",
              "      <td>Sul Maranhense</td>\n",
              "      <td>246274</td>\n",
              "      <td>30332</td>\n",
              "      <td>61268</td>\n",
              "      <td>25758</td>\n",
              "      <td>12387</td>\n",
              "      <td>3508</td>\n",
              "      <td>873</td>\n",
              "      <td>302</td>\n",
              "      <td>111830</td>\n",
              "    </tr>\n",
              "  </tbody>\n",
              "</table>\n",
              "</div>"
            ],
            "text/plain": [
              "         Mesoregioes    Total  ...  mais_de_vinte_sal  sem_rendimento\n",
              "0              Total  5265740  ...               7074         2452447\n",
              "1  Centro Maranhense   727522  ...                406          344723\n",
              "2   Leste Maranhense  1055758  ...                435          513013\n",
              "3   Norte Maranhense  2125145  ...               4883          970844\n",
              "4   Oeste Maranhense  1111041  ...               1048          512037\n",
              "5     Sul Maranhense   246274  ...                302          111830\n",
              "\n",
              "[6 rows x 10 columns]"
            ]
          },
          "metadata": {
            "tags": []
          },
          "execution_count": 62
        }
      ]
    },
    {
      "cell_type": "markdown",
      "metadata": {
        "id": "YM2hb6bavFM4"
      },
      "source": [
        "****Renda nas Mesoregiões de São Paulo****"
      ]
    },
    {
      "cell_type": "code",
      "metadata": {
        "colab": {
          "base_uri": "https://localhost:8080/",
          "height": 718
        },
        "id": "LlwF3sxLJDYA",
        "outputId": "b346d73c-9bdf-4fcd-86a5-809f7bd8de4d"
      },
      "source": [
        "#Renda em SP\n",
        "#https://drive.google.com/file/d/1eE5P6BVnllQ4VLabGC220S-8s0R1zGyW/view?usp=sharing\n",
        "import pandas as pd\n",
        "df =  pd.read_csv(\"https://drive.google.com/u/3/uc?id=1eE5P6BVnllQ4VLabGC220S-8s0R1zGyW&export=download\", sep=',')\n",
        "df"
      ],
      "execution_count": null,
      "outputs": [
        {
          "output_type": "execute_result",
          "data": {
            "text/html": [
              "<div>\n",
              "<style scoped>\n",
              "    .dataframe tbody tr th:only-of-type {\n",
              "        vertical-align: middle;\n",
              "    }\n",
              "\n",
              "    .dataframe tbody tr th {\n",
              "        vertical-align: top;\n",
              "    }\n",
              "\n",
              "    .dataframe thead th {\n",
              "        text-align: right;\n",
              "    }\n",
              "</style>\n",
              "<table border=\"1\" class=\"dataframe\">\n",
              "  <thead>\n",
              "    <tr style=\"text-align: right;\">\n",
              "      <th></th>\n",
              "      <th>Mesoregioes</th>\n",
              "      <th>Total</th>\n",
              "      <th>ate_meio_salario</th>\n",
              "      <th>meio_a_um_salario</th>\n",
              "      <th>um_a_dois_sal</th>\n",
              "      <th>dois_a_cinco_sal</th>\n",
              "      <th>cinco_a_dez_sal</th>\n",
              "      <th>dez_a_vinte_sal</th>\n",
              "      <th>mais_de_vinte_sal</th>\n",
              "      <th>sem_rendimento</th>\n",
              "    </tr>\n",
              "  </thead>\n",
              "  <tbody>\n",
              "    <tr>\n",
              "      <th>0</th>\n",
              "      <td>Total</td>\n",
              "      <td>35726194</td>\n",
              "      <td>698780</td>\n",
              "      <td>4957352</td>\n",
              "      <td>9007251</td>\n",
              "      <td>5919654</td>\n",
              "      <td>1804174</td>\n",
              "      <td>605370</td>\n",
              "      <td>231915</td>\n",
              "      <td>12485689</td>\n",
              "    </tr>\n",
              "    <tr>\n",
              "      <th>1</th>\n",
              "      <td>Aracatuba</td>\n",
              "      <td>612276</td>\n",
              "      <td>17188</td>\n",
              "      <td>114587</td>\n",
              "      <td>168194</td>\n",
              "      <td>91346</td>\n",
              "      <td>20688</td>\n",
              "      <td>4895</td>\n",
              "      <td>1769</td>\n",
              "      <td>193525</td>\n",
              "    </tr>\n",
              "    <tr>\n",
              "      <th>2</th>\n",
              "      <td>Araraquara</td>\n",
              "      <td>709800</td>\n",
              "      <td>13985</td>\n",
              "      <td>107068</td>\n",
              "      <td>199991</td>\n",
              "      <td>122522</td>\n",
              "      <td>29848</td>\n",
              "      <td>8311</td>\n",
              "      <td>2473</td>\n",
              "      <td>225444</td>\n",
              "    </tr>\n",
              "    <tr>\n",
              "      <th>3</th>\n",
              "      <td>Assis</td>\n",
              "      <td>480140</td>\n",
              "      <td>16909</td>\n",
              "      <td>98745</td>\n",
              "      <td>121726</td>\n",
              "      <td>67446</td>\n",
              "      <td>15379</td>\n",
              "      <td>3502</td>\n",
              "      <td>1058</td>\n",
              "      <td>155275</td>\n",
              "    </tr>\n",
              "    <tr>\n",
              "      <th>4</th>\n",
              "      <td>Bauru</td>\n",
              "      <td>1262930</td>\n",
              "      <td>31104</td>\n",
              "      <td>203772</td>\n",
              "      <td>341792</td>\n",
              "      <td>207865</td>\n",
              "      <td>50503</td>\n",
              "      <td>12897</td>\n",
              "      <td>3904</td>\n",
              "      <td>410625</td>\n",
              "    </tr>\n",
              "    <tr>\n",
              "      <th>5</th>\n",
              "      <td>Campinas</td>\n",
              "      <td>3305469</td>\n",
              "      <td>48844</td>\n",
              "      <td>433527</td>\n",
              "      <td>876355</td>\n",
              "      <td>610926</td>\n",
              "      <td>174357</td>\n",
              "      <td>55432</td>\n",
              "      <td>18463</td>\n",
              "      <td>1086635</td>\n",
              "    </tr>\n",
              "    <tr>\n",
              "      <th>6</th>\n",
              "      <td>Itapetininga</td>\n",
              "      <td>702285</td>\n",
              "      <td>35643</td>\n",
              "      <td>144315</td>\n",
              "      <td>162293</td>\n",
              "      <td>82765</td>\n",
              "      <td>18629</td>\n",
              "      <td>3903</td>\n",
              "      <td>1101</td>\n",
              "      <td>253572</td>\n",
              "    </tr>\n",
              "    <tr>\n",
              "      <th>7</th>\n",
              "      <td>Litoral Sul Paulista</td>\n",
              "      <td>389442</td>\n",
              "      <td>19639</td>\n",
              "      <td>80016</td>\n",
              "      <td>77358</td>\n",
              "      <td>43951</td>\n",
              "      <td>9824</td>\n",
              "      <td>1907</td>\n",
              "      <td>526</td>\n",
              "      <td>156170</td>\n",
              "    </tr>\n",
              "    <tr>\n",
              "      <th>8</th>\n",
              "      <td>Macro Metropolitana Paulista</td>\n",
              "      <td>2287218</td>\n",
              "      <td>42051</td>\n",
              "      <td>315831</td>\n",
              "      <td>605979</td>\n",
              "      <td>398838</td>\n",
              "      <td>106587</td>\n",
              "      <td>30312</td>\n",
              "      <td>9529</td>\n",
              "      <td>777653</td>\n",
              "    </tr>\n",
              "    <tr>\n",
              "      <th>9</th>\n",
              "      <td>Marilia</td>\n",
              "      <td>386080</td>\n",
              "      <td>10903</td>\n",
              "      <td>74183</td>\n",
              "      <td>100600</td>\n",
              "      <td>54588</td>\n",
              "      <td>14287</td>\n",
              "      <td>3998</td>\n",
              "      <td>1164</td>\n",
              "      <td>126327</td>\n",
              "    </tr>\n",
              "    <tr>\n",
              "      <th>10</th>\n",
              "      <td>Metropolitana de Sao Paulo</td>\n",
              "      <td>18248289</td>\n",
              "      <td>269241</td>\n",
              "      <td>2201164</td>\n",
              "      <td>4451463</td>\n",
              "      <td>3020784</td>\n",
              "      <td>1050471</td>\n",
              "      <td>393267</td>\n",
              "      <td>164214</td>\n",
              "      <td>6685898</td>\n",
              "    </tr>\n",
              "    <tr>\n",
              "      <th>11</th>\n",
              "      <td>Piracicaba</td>\n",
              "      <td>1198982</td>\n",
              "      <td>22268</td>\n",
              "      <td>157861</td>\n",
              "      <td>329495</td>\n",
              "      <td>220752</td>\n",
              "      <td>53841</td>\n",
              "      <td>13833</td>\n",
              "      <td>4363</td>\n",
              "      <td>396389</td>\n",
              "    </tr>\n",
              "    <tr>\n",
              "      <th>12</th>\n",
              "      <td>Presidente Prudente</td>\n",
              "      <td>743846</td>\n",
              "      <td>31261</td>\n",
              "      <td>150094</td>\n",
              "      <td>184081</td>\n",
              "      <td>100406</td>\n",
              "      <td>23973</td>\n",
              "      <td>6066</td>\n",
              "      <td>2158</td>\n",
              "      <td>245397</td>\n",
              "    </tr>\n",
              "    <tr>\n",
              "      <th>13</th>\n",
              "      <td>Ribeirao Preto</td>\n",
              "      <td>2062159</td>\n",
              "      <td>49456</td>\n",
              "      <td>321907</td>\n",
              "      <td>552561</td>\n",
              "      <td>358949</td>\n",
              "      <td>87526</td>\n",
              "      <td>23834</td>\n",
              "      <td>8209</td>\n",
              "      <td>659463</td>\n",
              "    </tr>\n",
              "    <tr>\n",
              "      <th>14</th>\n",
              "      <td>Sao Jose do Rio Preto</td>\n",
              "      <td>1385408</td>\n",
              "      <td>37480</td>\n",
              "      <td>254586</td>\n",
              "      <td>385054</td>\n",
              "      <td>233622</td>\n",
              "      <td>53928</td>\n",
              "      <td>14090</td>\n",
              "      <td>4422</td>\n",
              "      <td>402066</td>\n",
              "    </tr>\n",
              "    <tr>\n",
              "      <th>15</th>\n",
              "      <td>Vale do Paraiba Paulista</td>\n",
              "      <td>1951870</td>\n",
              "      <td>52808</td>\n",
              "      <td>299696</td>\n",
              "      <td>450309</td>\n",
              "      <td>304894</td>\n",
              "      <td>94333</td>\n",
              "      <td>29123</td>\n",
              "      <td>8562</td>\n",
              "      <td>711250</td>\n",
              "    </tr>\n",
              "  </tbody>\n",
              "</table>\n",
              "</div>"
            ],
            "text/plain": [
              "                     Mesoregioes     Total  ...  mais_de_vinte_sal  sem_rendimento\n",
              "0                          Total  35726194  ...             231915        12485689\n",
              "1                      Aracatuba    612276  ...               1769          193525\n",
              "2                     Araraquara    709800  ...               2473          225444\n",
              "3                          Assis    480140  ...               1058          155275\n",
              "4                          Bauru   1262930  ...               3904          410625\n",
              "5                       Campinas   3305469  ...              18463         1086635\n",
              "6                   Itapetininga    702285  ...               1101          253572\n",
              "7           Litoral Sul Paulista    389442  ...                526          156170\n",
              "8   Macro Metropolitana Paulista   2287218  ...               9529          777653\n",
              "9                        Marilia    386080  ...               1164          126327\n",
              "10    Metropolitana de Sao Paulo  18248289  ...             164214         6685898\n",
              "11                    Piracicaba   1198982  ...               4363          396389\n",
              "12           Presidente Prudente    743846  ...               2158          245397\n",
              "13                Ribeirao Preto   2062159  ...               8209          659463\n",
              "14         Sao Jose do Rio Preto   1385408  ...               4422          402066\n",
              "15      Vale do Paraiba Paulista   1951870  ...               8562          711250\n",
              "\n",
              "[16 rows x 10 columns]"
            ]
          },
          "metadata": {
            "tags": []
          },
          "execution_count": 63
        }
      ]
    },
    {
      "cell_type": "markdown",
      "metadata": {
        "id": "Q8i2oNJpHReF"
      },
      "source": [
        "## Perguntas a serem respondidas:\n",
        "1) Considerando todas as mesoregiões, calcule a média de trabalho infantil de 10 a 17 anos em cada estado.\n"
      ]
    },
    {
      "cell_type": "code",
      "metadata": {
        "colab": {
          "base_uri": "https://localhost:8080/"
        },
        "id": "Qu1-CNZvp4zi",
        "outputId": "6dc6124c-0328-4086-d480-376808af86c4"
      },
      "source": [
        "import pandas as pd\n",
        "#ler tabela geral MA\n",
        "df1 = pd.read_csv('https://drive.google.com/u/3/uc?id=12b-iZkrLiTUqXwuBQo0Lh-jCwBrHjC_g&export=download', sep=',')\n",
        "#ler tabela geral SP\n",
        "df2 = pd.read_csv('https://docs.google.com/u/3/uc?id=1_BOv61ZpS9SWWKtGqE6GGv1D01rgfOYz&export=download', sep=',')\n",
        "a = (df1[\"Total_entre_10_a_17\"].mean())\n",
        "b = (df2[\"Total_entre_10_a_17\"].mean())\n",
        "print(\"Média de trabalho infantil no Maranhão: %.2f.\\nMédia de trabalho infantil em São Paulo: %.2f.\"% (a, b))"
      ],
      "execution_count": null,
      "outputs": [
        {
          "output_type": "stream",
          "text": [
            "Média de trabalho infantil no Maranhão: 380095.67.\n",
            "Média de trabalho infantil em São Paulo: 664385.38.\n"
          ],
          "name": "stdout"
        }
      ]
    },
    {
      "cell_type": "markdown",
      "metadata": {
        "id": "4cVozDbQ5CHP"
      },
      "source": [
        "2) Qual a correlação entre o número de pessoas de uma determinada região em São Paulo com renda até meio salário mínimo e a quantidade de trabalho infantil da mesma região?\n"
      ]
    },
    {
      "cell_type": "code",
      "metadata": {
        "colab": {
          "base_uri": "https://localhost:8080/"
        },
        "id": "iGjlssEO5Mey",
        "outputId": "92d1d844-315d-4333-fcf5-d7fae2d5da0a"
      },
      "source": [
        "import pandas as pd\n",
        "#Ler tabela renda SP\n",
        "df1 = pd.read_csv('https://drive.google.com/u/3/uc?id=1eE5P6BVnllQ4VLabGC220S-8s0R1zGyW&export=download', sep=',')\n",
        "#Ler tabela geral SP\n",
        "df2 = pd.read_csv('https://docs.google.com/u/3/uc?id=1_BOv61ZpS9SWWKtGqE6GGv1D01rgfOYz&export=download', sep=',')\n",
        "y = df2['Total_entre_10_a_17']\n",
        "x = df1['ate_meio_salario']\n",
        "correlacao = y.corr(x)\n",
        "if correlacao <= 0.33:\n",
        "  print(\"A correlação entre o indice de trabalho infantil das mesoregiões e o indice de pessoas com no máximo meio salário mínimo dentro delas é de %.2f.\"% (correlacao))\n",
        "  print(\"Isso significa que o indice de trabalho infantil das mesoregiões e o indice de pessoas com no máximo meio salário mínimo não têm relação entre si.\")\n",
        "elif 0.33 < correlacao <= 0.85:\n",
        "  print(\"A correlação entre o indice de trabalho infantil das mesoregiões e o indice de pessoas com no máximo meio salário mínimo dentro delas é de %.2f.\"% (correlacao))\n",
        "  print(\"Isso significa que o indice de trabalho infantil das mesoregiões e o indice de pessoas com no máximo meio salário mínimo têm pouca relação entre si.\")\n",
        "elif 0.85 < correlacao:\n",
        "  print(\"A correlação entre o indice de trabalho infantil das mesoregiões e o indice de pessoas com no máximo meio salário mínimo dentro delas é de %.2f.\"% (correlacao))\n",
        "  print(\"Isso significa que o indice de trabalho infantil das mesoregiões estão diretamente relacionadas com seu indice de pessoas com no máximo meio salário mínimo.\")"
      ],
      "execution_count": null,
      "outputs": [
        {
          "output_type": "stream",
          "text": [
            "A correlação entre o indice de trabalho infantil das mesoregiões e o indice de pessoas com no máximo meio salário mínimo dentro delas é de 0.99.\n",
            "Isso significa que o indice de trabalho infantil das mesoregiões estão diretamente relacionadas com seu indice de pessoas com no máximo meio salário mínimo.\n"
          ],
          "name": "stdout"
        }
      ]
    },
    {
      "cell_type": "markdown",
      "metadata": {
        "id": "2CcTYEEd6Hpn"
      },
      "source": [
        "3) O Valor total mínimo de trabalho infantil é registrado em qual região de cada estado?\n"
      ]
    },
    {
      "cell_type": "code",
      "metadata": {
        "colab": {
          "base_uri": "https://localhost:8080/"
        },
        "id": "xSGAb27L6Klf",
        "outputId": "da34828c-7b0c-4a5a-c5b5-328067f0d01a"
      },
      "source": [
        "import pandas as pd\n",
        "#Ler tabela geral MA\n",
        "df1 = pd.read_csv(\"https://drive.google.com/u/3/uc?id=12b-iZkrLiTUqXwuBQo0Lh-jCwBrHjC_g&export=download\")\n",
        "#Ler tabela geral SP\n",
        "df2 = pd.read_csv(\"https://docs.google.com/u/3/uc?id=1_BOv61ZpS9SWWKtGqE6GGv1D01rgfOYz&export=download\")\n",
        "a = (df1[\"Total_entre_10_a_17\"].min())\n",
        "b = (df2[\"Total_entre_10_a_17\"].min())\n",
        "print(\"Valor mínimo do indice de trabalho infantil entre todas as idades (10 a 17 anos) no Maranhão: %d.\\nValor mínimo do indice de trabalho infantil entre todas as idades (10 a 17 anos) em São Paulo: %d.\"% (a, b))"
      ],
      "execution_count": null,
      "outputs": [
        {
          "output_type": "stream",
          "text": [
            "Valor mínimo do indice de trabalho infantil entre todas as idades (10 a 17 anos) no Maranhão: 55792.\n",
            "Valor mínimo do indice de trabalho infantil entre todas as idades (10 a 17 anos) em São Paulo: 54528.\n"
          ],
          "name": "stdout"
        }
      ]
    },
    {
      "cell_type": "markdown",
      "metadata": {
        "id": "bwwfvae36h0A"
      },
      "source": [
        "4) Em qual região se encontra o valor total máximo de trabalho infantil em cada estado?"
      ]
    },
    {
      "cell_type": "code",
      "metadata": {
        "colab": {
          "base_uri": "https://localhost:8080/"
        },
        "id": "WwK7Hs5d6nVl",
        "outputId": "28e13bea-e882-45ed-9bea-878df9d05a4f"
      },
      "source": [
        "import pandas as pd\n",
        "#Ler tabela geral MA\n",
        "df1 = pd.read_csv(\"https://drive.google.com/u/3/uc?id=12b-iZkrLiTUqXwuBQo0Lh-jCwBrHjC_g&export=download\")\n",
        "#Ler tabela geral SP\n",
        "df2 = pd.read_csv(\"https://docs.google.com/u/3/uc?id=1_BOv61ZpS9SWWKtGqE6GGv1D01rgfOYz&export=download\")\n",
        "a = (df1[\"Total_entre_10_a_17\"].max())\n",
        "b = (df2[\"Total_entre_10_a_17\"].max())\n",
        "print(\"Valor máximo do indice de trabalho infantil entre todas as idades (10 a 17 anos) no Maranhão: %d.\\nValor máximo do indice de trabalho infantil entre todas as idades (10 a 17 anos) em São Paulo: %d.\"% (a, b))"
      ],
      "execution_count": null,
      "outputs": [
        {
          "output_type": "stream",
          "text": [
            "Valor máximo do indice de trabalho infantil entre todas as idades (10 a 17 anos) no Maranhão: 1140287.\n",
            "Valor máximo do indice de trabalho infantil entre todas as idades (10 a 17 anos) em São Paulo: 5315082.\n"
          ],
          "name": "stdout"
        }
      ]
    },
    {
      "cell_type": "markdown",
      "metadata": {
        "id": "pyYgvMszu_uP"
      },
      "source": [
        "5)Quais as diferenças entre o maior e o menor indice de trabalho infantil entre os estados?\n"
      ]
    },
    {
      "cell_type": "code",
      "metadata": {
        "colab": {
          "base_uri": "https://localhost:8080/"
        },
        "id": "saFZbvo8vDLQ",
        "outputId": "ac1d008d-9f51-423b-82fb-e1bcb17a6b15"
      },
      "source": [
        "import pandas as pd\n",
        "#Ler tabela geral MA\n",
        "df1 = pd.read_csv(\"https://drive.google.com/u/3/uc?id=12b-iZkrLiTUqXwuBQo0Lh-jCwBrHjC_g&export=download\")\n",
        "#Ler tabela geral SP\n",
        "df2 = pd.read_csv(\"https://docs.google.com/u/3/uc?id=1_BOv61ZpS9SWWKtGqE6GGv1D01rgfOYz&export=download\")\n",
        "df1min = df1[\"Total_entre_10_a_17\"].min()\n",
        "df1max = df1[\"Total_entre_10_a_17\"].max()\n",
        "df1 = df1max - df1min\n",
        "#Diferença SP\n",
        "df2min = df2[\"Total_entre_10_a_17\"].min()\n",
        "df2max = df2[\"Total_entre_10_a_17\"].max()\n",
        "df2 = df2max - df2min\n",
        "#Exibe as duas\n",
        "print(\"Diferença entre o maior e o menor indice de trabalho infantil no Maranhão: %d.\"% (df1))\n",
        "print(\"Diferença entre o maior e o menor indice de trabalho infantil em São Paulo: %d.\"% (df2))"
      ],
      "execution_count": null,
      "outputs": [
        {
          "output_type": "stream",
          "text": [
            "Diferença entre o maior e o menor indice de trabalho infantil no Maranhão: 1084495.\n",
            "Diferença entre o maior e o menor indice de trabalho infantil em São Paulo: 5260554.\n"
          ],
          "name": "stdout"
        }
      ]
    },
    {
      "cell_type": "markdown",
      "metadata": {
        "id": "vlRtgR9T-hV8"
      },
      "source": [
        "6) De acordo com a tabela abaixo, escolha uma das mesoregiões para ver seu percentual em relação ao total de trabalho infantil.\n",
        "\n"
      ]
    },
    {
      "cell_type": "code",
      "metadata": {
        "colab": {
          "base_uri": "https://localhost:8080/",
          "height": 545
        },
        "id": "cGfpAu40-jxy",
        "outputId": "68d2a8d4-1473-4699-e24e-5127e818a928"
      },
      "source": [
        "import pandas as pd\n",
        "\n",
        "df = pd.read_csv(\"https://docs.google.com/u/3/uc?id=1_BOv61ZpS9SWWKtGqE6GGv1D01rgfOYz&export=download\", sep=',')\n",
        "df"
      ],
      "execution_count": null,
      "outputs": [
        {
          "output_type": "execute_result",
          "data": {
            "text/html": [
              "<div>\n",
              "<style scoped>\n",
              "    .dataframe tbody tr th:only-of-type {\n",
              "        vertical-align: middle;\n",
              "    }\n",
              "\n",
              "    .dataframe tbody tr th {\n",
              "        vertical-align: top;\n",
              "    }\n",
              "\n",
              "    .dataframe thead th {\n",
              "        text-align: right;\n",
              "    }\n",
              "</style>\n",
              "<table border=\"1\" class=\"dataframe\">\n",
              "  <thead>\n",
              "    <tr style=\"text-align: right;\">\n",
              "      <th></th>\n",
              "      <th>Mesoregioes</th>\n",
              "      <th>Total_entre_10_a_17</th>\n",
              "      <th>Criancas_10_a_13_anos</th>\n",
              "      <th>Criancas_14_a_15_anos</th>\n",
              "      <th>Criancas_16_a_17_anos</th>\n",
              "    </tr>\n",
              "  </thead>\n",
              "  <tbody>\n",
              "    <tr>\n",
              "      <th>0</th>\n",
              "      <td>Total</td>\n",
              "      <td>5315082</td>\n",
              "      <td>2649355</td>\n",
              "      <td>1358473</td>\n",
              "      <td>1307254</td>\n",
              "    </tr>\n",
              "    <tr>\n",
              "      <th>1</th>\n",
              "      <td>Aracatuba</td>\n",
              "      <td>83976</td>\n",
              "      <td>40170</td>\n",
              "      <td>22078</td>\n",
              "      <td>21727</td>\n",
              "    </tr>\n",
              "    <tr>\n",
              "      <th>2</th>\n",
              "      <td>Araraquara</td>\n",
              "      <td>98672</td>\n",
              "      <td>48166</td>\n",
              "      <td>25742</td>\n",
              "      <td>24764</td>\n",
              "    </tr>\n",
              "    <tr>\n",
              "      <th>3</th>\n",
              "      <td>Assis</td>\n",
              "      <td>71964</td>\n",
              "      <td>35364</td>\n",
              "      <td>18526</td>\n",
              "      <td>18075</td>\n",
              "    </tr>\n",
              "    <tr>\n",
              "      <th>4</th>\n",
              "      <td>Bauru</td>\n",
              "      <td>186098</td>\n",
              "      <td>90872</td>\n",
              "      <td>48766</td>\n",
              "      <td>46460</td>\n",
              "    </tr>\n",
              "    <tr>\n",
              "      <th>5</th>\n",
              "      <td>Campinas</td>\n",
              "      <td>470902</td>\n",
              "      <td>230448</td>\n",
              "      <td>122033</td>\n",
              "      <td>118420</td>\n",
              "    </tr>\n",
              "    <tr>\n",
              "      <th>6</th>\n",
              "      <td>Itapetininga</td>\n",
              "      <td>121109</td>\n",
              "      <td>60403</td>\n",
              "      <td>31625</td>\n",
              "      <td>29081</td>\n",
              "    </tr>\n",
              "    <tr>\n",
              "      <th>7</th>\n",
              "      <td>Litoral Sul Paulista</td>\n",
              "      <td>70950</td>\n",
              "      <td>36058</td>\n",
              "      <td>18302</td>\n",
              "      <td>16591</td>\n",
              "    </tr>\n",
              "    <tr>\n",
              "      <th>8</th>\n",
              "      <td>Macro Metropolitana Paulista</td>\n",
              "      <td>350022</td>\n",
              "      <td>173571</td>\n",
              "      <td>89846</td>\n",
              "      <td>86605</td>\n",
              "    </tr>\n",
              "    <tr>\n",
              "      <th>9</th>\n",
              "      <td>Marilia</td>\n",
              "      <td>54528</td>\n",
              "      <td>27060</td>\n",
              "      <td>13907</td>\n",
              "      <td>13560</td>\n",
              "    </tr>\n",
              "    <tr>\n",
              "      <th>10</th>\n",
              "      <td>Metropolitana de Sao Paulo</td>\n",
              "      <td>2738291</td>\n",
              "      <td>1384901</td>\n",
              "      <td>689502</td>\n",
              "      <td>663888</td>\n",
              "    </tr>\n",
              "    <tr>\n",
              "      <th>11</th>\n",
              "      <td>Piracicaba</td>\n",
              "      <td>174068</td>\n",
              "      <td>85263</td>\n",
              "      <td>45922</td>\n",
              "      <td>42883</td>\n",
              "    </tr>\n",
              "    <tr>\n",
              "      <th>12</th>\n",
              "      <td>Presidente Prudente</td>\n",
              "      <td>106583</td>\n",
              "      <td>51249</td>\n",
              "      <td>27803</td>\n",
              "      <td>27531</td>\n",
              "    </tr>\n",
              "    <tr>\n",
              "      <th>13</th>\n",
              "      <td>Ribeirao Preto</td>\n",
              "      <td>303716</td>\n",
              "      <td>148326</td>\n",
              "      <td>78572</td>\n",
              "      <td>76817</td>\n",
              "    </tr>\n",
              "    <tr>\n",
              "      <th>14</th>\n",
              "      <td>Sao Jose do Rio Preto</td>\n",
              "      <td>180824</td>\n",
              "      <td>87170</td>\n",
              "      <td>47423</td>\n",
              "      <td>46230</td>\n",
              "    </tr>\n",
              "    <tr>\n",
              "      <th>15</th>\n",
              "      <td>Vale do Paraiba Paulista</td>\n",
              "      <td>303381</td>\n",
              "      <td>150333</td>\n",
              "      <td>78426</td>\n",
              "      <td>74622</td>\n",
              "    </tr>\n",
              "  </tbody>\n",
              "</table>\n",
              "</div>"
            ],
            "text/plain": [
              "                     Mesoregioes  ...  Criancas_16_a_17_anos\n",
              "0                          Total  ...                1307254\n",
              "1                      Aracatuba  ...                  21727\n",
              "2                     Araraquara  ...                  24764\n",
              "3                          Assis  ...                  18075\n",
              "4                          Bauru  ...                  46460\n",
              "5                       Campinas  ...                 118420\n",
              "6                   Itapetininga  ...                  29081\n",
              "7           Litoral Sul Paulista  ...                  16591\n",
              "8   Macro Metropolitana Paulista  ...                  86605\n",
              "9                        Marilia  ...                  13560\n",
              "10    Metropolitana de Sao Paulo  ...                 663888\n",
              "11                    Piracicaba  ...                  42883\n",
              "12           Presidente Prudente  ...                  27531\n",
              "13                Ribeirao Preto  ...                  76817\n",
              "14         Sao Jose do Rio Preto  ...                  46230\n",
              "15      Vale do Paraiba Paulista  ...                  74622\n",
              "\n",
              "[16 rows x 5 columns]"
            ]
          },
          "metadata": {
            "tags": []
          },
          "execution_count": 69
        }
      ]
    },
    {
      "cell_type": "code",
      "metadata": {
        "id": "2ySwLuZQdR4M"
      },
      "source": [
        "import pandas as pd\n",
        "import csv\n",
        "df = pd.read_csv(\"https://docs.google.com/u/3/uc?id=1oExhtxR7Ko9wP7TXBWmMuSe0Rk2NQCnB&export=download\", sep=\",\")\n",
        "mesoreg = str(input())\n",
        "meso = df[\"Total_entre_10_a_17\"].loc[df[\"Mesoregioes\"]==mesoreg]\n",
        "total = df[\"Total_entre_10_a_17\"].loc[0]\n",
        "percentual = (meso*100)/total\n",
        "print(\"Percentual de trabalho infantil na Mesoregião de %s em relação ao total do estado: %.2f%%.\"% (mesoreg, percentual))"
      ],
      "execution_count": null,
      "outputs": []
    },
    {
      "cell_type": "markdown",
      "metadata": {
        "id": "cdhJ9VQvv_YU"
      },
      "source": [
        "7) Tendo em vista que a população total de São Paulo é de aproximadamente 41,25 milhões e a de Maranhão é de aproximadamente 6,69 milhôes, calcule usando o total de trabalho infantil de 10 a 17 anos, a porcentagem da população que corresponde a crianças em situação de trabalho."
      ]
    },
    {
      "cell_type": "code",
      "metadata": {
        "id": "e9bJ7I85TOgj",
        "colab": {
          "base_uri": "https://localhost:8080/"
        },
        "outputId": "7f821345-f92c-4596-fb17-843624d96cff"
      },
      "source": [
        "import pandas as pd\n",
        "#Maranhão\n",
        "df1 = pd.read_csv(\"https://drive.google.com/u/3/uc?id=1w533TGqFeyGboRSyjjeFEQ_Y4lyOZzoI&export=download\", sep=',')\n",
        "#São Paulo\n",
        "df2 = pd.read_csv(\"https://docs.google.com/u/3/uc?id=1_BOv61ZpS9SWWKtGqE6GGv1D01rgfOYz&export=download\", sep=',')\n",
        "total1 = df2[\"Total_entre_10_a_17\"].loc[0]\n",
        "porcentagemSP = (total1*100)/41252160\n",
        "total2 = df1[\"Total_entre_10_a_17\"].loc[0]\n",
        "porcentagemMA = (total2*100)/6569683\n",
        "print(\"A porcentagem de crianças trabalhando com base na população de São Paulo é de %.2f%%.\"% (porcentagemSP))\n",
        "print(\"A porcentagem de crianças trabalhando com base na população do Maranhão é de %.2f%%.\"% (porcentagemMA))"
      ],
      "execution_count": null,
      "outputs": [
        {
          "output_type": "stream",
          "text": [
            "A porcentagem de crianças trabalhando com base na população de São Paulo é de 12.88%.\n",
            "A porcentagem de crianças trabalhando com base na população do Maranhão é de 17.36%.\n"
          ],
          "name": "stdout"
        }
      ]
    },
    {
      "cell_type": "markdown",
      "metadata": {
        "id": "gqUZav8tp90o"
      },
      "source": [
        "## Resultados:\n",
        "Implementar os resultados estatístivos, principalmente, incluindo gráficos (não esqueça das legendas/rótulos)\n",
        "\n"
      ]
    },
    {
      "cell_type": "markdown",
      "metadata": {
        "id": "z8WpeCgUtoM6"
      },
      "source": [
        "****Gráfico Mesoregiões São Paulo****"
      ]
    },
    {
      "cell_type": "code",
      "metadata": {
        "colab": {
          "base_uri": "https://localhost:8080/",
          "height": 990
        },
        "id": "voLpE77ep_jM",
        "outputId": "e2199a82-62f3-4be9-e156-a4efd992a1c7"
      },
      "source": [
        "%matplotlib inline\n",
        "import numpy as np\n",
        "import pandas as pd\n",
        "import matplotlib.pyplot as plt\n",
        "df = pd.read_csv(\"https://docs.google.com/u/3/uc?id=1_BOv61ZpS9SWWKtGqE6GGv1D01rgfOYz&export=download\", sep=',')\n",
        "df.drop(0, axis=0, inplace=True)\n",
        "x = df[[\"Total_entre_10_a_17\", \"Criancas_10_a_13_anos\", \"Criancas_14_a_15_anos\", \"Criancas_16_a_17_anos\"]].plot(figsize=(14,14), kind='bar')\n",
        "x.set_xticklabels(df[\"Mesoregioes\"])\n",
        "x.set_xlabel(\"Mesoregiões\")\n",
        "x.set_ylabel(\"Indice de trabalho infantil (em milhões)\")\n",
        "x.set_title(\"Indice de trabalho infantil em cada mesoregião de São Paulo\")\n",
        "x"
      ],
      "execution_count": null,
      "outputs": [
        {
          "output_type": "execute_result",
          "data": {
            "text/plain": [
              "<matplotlib.axes._subplots.AxesSubplot at 0x7fc00524d5c0>"
            ]
          },
          "metadata": {
            "tags": []
          },
          "execution_count": 37
        },
        {
          "output_type": "display_data",
          "data": {
            "image/png": "[encoded data removed]",
            "text/plain": [
              "<Figure size 1008x1008 with 1 Axes>"
            ]
          },
          "metadata": {
            "tags": []
          }
        }
      ]
    },
    {
      "cell_type": "markdown",
      "metadata": {
        "id": "rFlS_pCEtyTG"
      },
      "source": [
        "****Gráfico Mesoregiões Maranhão****"
      ]
    },
    {
      "cell_type": "code",
      "metadata": {
        "colab": {
          "base_uri": "https://localhost:8080/",
          "height": 726
        },
        "id": "7nFWFz0lovsD",
        "outputId": "36446c68-32d1-45fb-98cf-83434970273e"
      },
      "source": [
        "%matplotlib inline\n",
        "import numpy as np\n",
        "import pandas as pd\n",
        "import matplotlib.pyplot as plt\n",
        "df = pd.read_csv(\"https://drive.google.com/u/3/uc?id=12b-iZkrLiTUqXwuBQo0Lh-jCwBrHjC_g&export=download\", sep=',')\n",
        "df.drop(0, axis=0, inplace=True)\n",
        "x = df[[\"Total_entre_10_a_17\", \"Criancas_10_a_13_anos\", \"Criancas_14_a_15_anos\", \"Criancas_16_a_17_anos\"]].plot(figsize=(10,10), kind='bar')\n",
        "x.set_xticklabels(df[\"Mesoregioes\"])\n",
        "x.set_xlabel(\"Mesoregiões\")\n",
        "x.set_ylabel(\"Indice de trabalho infantil\")\n",
        "x.set_title(\"Indice de trabalho infantil em cada mesoregião do Maranhão\")\n",
        "x"
      ],
      "execution_count": null,
      "outputs": [
        {
          "output_type": "execute_result",
          "data": {
            "text/plain": [
              "<matplotlib.axes._subplots.AxesSubplot at 0x7fc005a1b550>"
            ]
          },
          "metadata": {
            "tags": []
          },
          "execution_count": 84
        },
        {
          "output_type": "display_data",
          "data": {
            "image/png": "[encoded data removed]",
            "text/plain": [
              "<Figure size 720x720 with 1 Axes>"
            ]
          },
          "metadata": {
            "tags": [],
            "needs_background": "light"
          }
        }
      ]
    },
    {
      "cell_type": "markdown",
      "metadata": {
        "id": "gwGG-buTZDox"
      },
      "source": [
        "****Indice de TrabalhIndice de Trabalho Infantil x Renda no Maranhão****"
      ]
    },
    {
      "cell_type": "code",
      "metadata": {
        "colab": {
          "base_uri": "https://localhost:8080/",
          "height": 726
        },
        "id": "t2HV1miSZENB",
        "outputId": "7eff71e6-c1d0-452e-948c-937fb27b05c9"
      },
      "source": [
        "%matplotlib inline\n",
        "import numpy as np\n",
        "import pandas as pd\n",
        "import matplotlib.pyplot as plt\n",
        "df1 = pd.read_csv(\"https://drive.google.com/u/3/uc?id=12b-iZkrLiTUqXwuBQo0Lh-jCwBrHjC_g&export=download\", sep=',')\n",
        "df1.drop(0, axis=0, inplace=True)\n",
        "df2 =  pd.read_csv(\"https://drive.google.com/u/3/uc?id=1c_M1lYp_0mWl2oenJ1GV7UrhruyBH6Mi&export=download\", sep=',')\n",
        "df2.drop(0, axis=0, inplace=True)\n",
        "nData = pd.merge(df1, df2,how=\"left\")\n",
        "x = nData[[\"Total_entre_10_a_17\", \"ate_meio_salario\"]].plot(figsize=(10,10), kind='bar')\n",
        "x.set_xticklabels(df1[\"Mesoregioes\"])\n",
        "x.set_xlabel(\"Mesoregiões\")\n",
        "x.set_ylabel(\"Indice de Irabalho Infantil x Renda de Até Meio Salário\")\n",
        "x.set_title(\"Indice de Trabalho Infantil x Renda no Maranhão\")\n",
        "x"
      ],
      "execution_count": null,
      "outputs": [
        {
          "output_type": "execute_result",
          "data": {
            "text/plain": [
              "<matplotlib.axes._subplots.AxesSubplot at 0x7fc00580e438>"
            ]
          },
          "metadata": {
            "tags": []
          },
          "execution_count": 89
        },
        {
          "output_type": "display_data",
          "data": {
            "image/png": "[encoded data removed]",
            "text/plain": [
              "<Figure size 720x720 with 1 Axes>"
            ]
          },
          "metadata": {
            "tags": [],
            "needs_background": "light"
          }
        }
      ]
    },
    {
      "cell_type": "markdown",
      "metadata": {
        "id": "3seQIq8GZFLI"
      },
      "source": [
        "****Indice de Trabalho Infantil x Renda em São Paulo****"
      ]
    },
    {
      "cell_type": "code",
      "metadata": {
        "colab": {
          "base_uri": "https://localhost:8080/",
          "height": 990
        },
        "id": "13KakGoOZFqn",
        "outputId": "419484f7-cacb-4644-90a8-a33d6e634f12"
      },
      "source": [
        "%matplotlib inline\n",
        "import numpy as np\n",
        "import pandas as pd\n",
        "import matplotlib.pyplot as plt\n",
        "df1 = pd.read_csv(\"https://docs.google.com/u/3/uc?id=1_BOv61ZpS9SWWKtGqE6GGv1D01rgfOYz&export=download\", sep=',')\n",
        "df1.drop(0, axis=0, inplace=True)\n",
        "df2 =  pd.read_csv(\"https://drive.google.com/u/3/uc?id=1eE5P6BVnllQ4VLabGC220S-8s0R1zGyW&export=download\", sep=',')\n",
        "df2.drop(0, axis=0, inplace=True)\n",
        "nData = pd.merge(df1, df2,how=\"left\")\n",
        "x = nData[[\"Total_entre_10_a_17\", \"ate_meio_salario\"]].plot(figsize=(14,14), kind='bar')\n",
        "x.set_xticklabels(df1[\"Mesoregioes\"])\n",
        "x.set_xlabel(\"Mesoregiões\")\n",
        "x.set_ylabel(\"Indice de trabalho infantil x Renda de Até Meio Salário Mínimo (em milhões de abitantes)\")\n",
        "x.set_title(\"Indice de Trabalho Infantil x Renda em São Paulo\")\n",
        "x"
      ],
      "execution_count": null,
      "outputs": [
        {
          "output_type": "execute_result",
          "data": {
            "text/plain": [
              "<matplotlib.axes._subplots.AxesSubplot at 0x7fc003960828>"
            ]
          },
          "metadata": {
            "tags": []
          },
          "execution_count": 90
        },
        {
          "output_type": "display_data",
          "data": {
            "image/png": "[encoded data removed]",
            "text/plain": [
              "<Figure size 1008x1008 with 1 Axes>"
            ]
          },
          "metadata": {
            "tags": [],
            "needs_background": "light"
          }
        }
      ]
    },
    {
      "cell_type": "markdown",
      "metadata": {
        "id": "uoAvmyDop_1p"
      },
      "source": [
        "## Conclusões:\n",
        "\n",
        "A pobreza é o principal fator associado com o trabalho infantil, segundo os dados de correlação **(exercicio 2)**, o índice de trabalho infantil das mesoregiões está diretamente relacionado a quantidade de pessoas com no máximo meio salário mínimo, o que significa que as famílias mais pobres acabam tendo que colocar as crianças para trabalhar e assim ajudar com a renda em casa, vemos isso também no gráfico de Renda até meio salário mínimo X Trabalho infantil.\n",
        "\n",
        "Com base nos resultados estatisticos dos gráficos de barras , as crianças entre 10 a 13 anos são as que mais estão nessa situação de traballho. Acreditamos nós, que isso ocorre pois nessa idade ainda não é permitido por lei o trabalho, o que só acontece a partir de 14 anos de idade - Jovem Aprendiz.\n",
        "\n",
        "Entre as regiões de São Paulo(SP) e Maranhão(MA), as mesoregiões de SP juntas possuem um indice de valor máximo quase 5 vezes maior que o MA **(exercicio 4)**, isso ocorre devido a população demasiadamente maior.\n",
        "\n",
        "Comparando os dois Estados de estudo, a mesorregião que possui maior número de trabalho infantil é a Metropolitana de Sao Paulo, pois a disparidade de renda é muito grande e possui uma população volumosa, portanto veremos a seguir os números em porcentagem.\n",
        "\n",
        "Por fim, concluimos que a porcentagem de crianças trabalhando da população geral do Maranhão apresenta um número maior do que a porcentagem de São Paulo, sendo respectivamente 12,88% e 17,36%. O trabalho infantil ainda é um prolema muito grande nos dois estados, que pode ser resolvido através da melhoria de qualidade de vida das famílias que são forçadas a iserir as crianças no trabalho por conta da extrema pobreza.\n",
        "\n",
        "\n",
        "\n",
        "\n"
      ]
    },
    {
      "cell_type": "markdown",
      "metadata": {
        "id": "5J7_yS3TqtbK"
      },
      "source": [
        "## Referências:\n",
        "\n",
        "\n",
        "\n"
      ]
    },
    {
      "cell_type": "markdown",
      "metadata": {
        "id": "kKx8kZFIA7Zp"
      },
      "source": [
        "1 - https://docs.google.com/spreadsheets/d/1E4mKtCROYcL0V8GQL9ppUFOkqdK8vF7VZHTYQhLEw9I/edit?usp=sharing\n",
        "\n",
        "2 - https://www.ibge.gov.br/estatisticas/sociais/populacao/9662-censo-demografico-2010.html?edicao=9759&t=resultados\n",
        "\n",
        "3 - https://www.ibge.gov.br/estatisticas/sociais/populacao/9662-censo-demografico-2010.html?edicao=9752&t=resultados\n",
        "\n",
        "4 - https://noticias.uol.com.br/censo-2010/populacao/sp (População de São Paulo utilizada no exercício 7)\n",
        "\n",
        "5 - https://noticias.uol.com.br/censo-2010/populacao/ma (População do Maranhão utilizada no exercício 7)"
      ]
    }
  ]
}